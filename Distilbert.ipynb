{
 "cells": [
  {
   "cell_type": "markdown",
   "metadata": {
    "id": "LSQLwxhmylkI"
   },
   "source": [
    "## --> To load the saved model and run it on the test data, run the cells marked with #+"
   ]
  },
  {
   "cell_type": "code",
   "execution_count": 1,
   "metadata": {
    "colab": {
     "base_uri": "https://localhost:8080/"
    },
    "executionInfo": {
     "elapsed": 14475,
     "status": "ok",
     "timestamp": 1614360728724,
     "user": {
      "displayName": "Esther Spiteri",
      "photoUrl": "",
      "userId": "09875045081686133788"
     },
     "user_tz": -60
    },
    "id": "I2cQT3Ol3AJM",
    "outputId": "5af65af9-6e48-441e-ba61-fba52c04e976"
   },
   "outputs": [
    {
     "name": "stdout",
     "output_type": "stream",
     "text": [
      "Collecting git+https://github.com/huggingface/transformers.git\n",
      "  Cloning https://github.com/huggingface/transformers.git to /tmp/pip-req-build-mwz_1km9\n",
      "  Running command git clone -q https://github.com/huggingface/transformers.git /tmp/pip-req-build-mwz_1km9\n",
      "  Installing build dependencies ... \u001b[?25l\u001b[?25hdone\n",
      "  Getting requirements to build wheel ... \u001b[?25l\u001b[?25hdone\n",
      "    Preparing wheel metadata ... \u001b[?25l\u001b[?25hdone\n",
      "Requirement already satisfied (use --upgrade to upgrade): transformers==4.4.0.dev0 from git+https://github.com/huggingface/transformers.git in /usr/local/lib/python3.7/dist-packages\n",
      "Requirement already satisfied: filelock in /usr/local/lib/python3.7/dist-packages (from transformers==4.4.0.dev0) (3.0.12)\n",
      "Requirement already satisfied: importlib-metadata; python_version < \"3.8\" in /usr/local/lib/python3.7/dist-packages (from transformers==4.4.0.dev0) (3.4.0)\n",
      "Requirement already satisfied: regex!=2019.12.17 in /usr/local/lib/python3.7/dist-packages (from transformers==4.4.0.dev0) (2019.12.20)\n",
      "Requirement already satisfied: tqdm>=4.27 in /usr/local/lib/python3.7/dist-packages (from transformers==4.4.0.dev0) (4.41.1)\n",
      "Requirement already satisfied: requests in /usr/local/lib/python3.7/dist-packages (from transformers==4.4.0.dev0) (2.23.0)\n",
      "Requirement already satisfied: packaging in /usr/local/lib/python3.7/dist-packages (from transformers==4.4.0.dev0) (20.9)\n",
      "Requirement already satisfied: numpy>=1.17 in /usr/local/lib/python3.7/dist-packages (from transformers==4.4.0.dev0) (1.19.5)\n",
      "Requirement already satisfied: sacremoses in /usr/local/lib/python3.7/dist-packages (from transformers==4.4.0.dev0) (0.0.43)\n",
      "Requirement already satisfied: tokenizers<0.11,>=0.10.1 in /usr/local/lib/python3.7/dist-packages (from transformers==4.4.0.dev0) (0.10.1)\n",
      "Requirement already satisfied: zipp>=0.5 in /usr/local/lib/python3.7/dist-packages (from importlib-metadata; python_version < \"3.8\"->transformers==4.4.0.dev0) (3.4.0)\n",
      "Requirement already satisfied: typing-extensions>=3.6.4; python_version < \"3.8\" in /usr/local/lib/python3.7/dist-packages (from importlib-metadata; python_version < \"3.8\"->transformers==4.4.0.dev0) (3.7.4.3)\n",
      "Requirement already satisfied: chardet<4,>=3.0.2 in /usr/local/lib/python3.7/dist-packages (from requests->transformers==4.4.0.dev0) (3.0.4)\n",
      "Requirement already satisfied: urllib3!=1.25.0,!=1.25.1,<1.26,>=1.21.1 in /usr/local/lib/python3.7/dist-packages (from requests->transformers==4.4.0.dev0) (1.24.3)\n",
      "Requirement already satisfied: idna<3,>=2.5 in /usr/local/lib/python3.7/dist-packages (from requests->transformers==4.4.0.dev0) (2.10)\n",
      "Requirement already satisfied: certifi>=2017.4.17 in /usr/local/lib/python3.7/dist-packages (from requests->transformers==4.4.0.dev0) (2020.12.5)\n",
      "Requirement already satisfied: pyparsing>=2.0.2 in /usr/local/lib/python3.7/dist-packages (from packaging->transformers==4.4.0.dev0) (2.4.7)\n",
      "Requirement already satisfied: six in /usr/local/lib/python3.7/dist-packages (from sacremoses->transformers==4.4.0.dev0) (1.15.0)\n",
      "Requirement already satisfied: click in /usr/local/lib/python3.7/dist-packages (from sacremoses->transformers==4.4.0.dev0) (7.1.2)\n",
      "Requirement already satisfied: joblib in /usr/local/lib/python3.7/dist-packages (from sacremoses->transformers==4.4.0.dev0) (1.0.1)\n",
      "Building wheels for collected packages: transformers\n",
      "  Building wheel for transformers (PEP 517) ... \u001b[?25l\u001b[?25hdone\n",
      "  Created wheel for transformers: filename=transformers-4.4.0.dev0-cp37-none-any.whl size=1890659 sha256=3d3123fd443f34a4cbd11bcbccdf4e4871c9ffa11b59c17b72f125556264f0fc\n",
      "  Stored in directory: /tmp/pip-ephem-wheel-cache-9oejhulg/wheels/33/eb/3b/4bf5dd835e865e472d4fc0754f35ac0edb08fe852e8f21655f\n",
      "Successfully built transformers\n"
     ]
    }
   ],
   "source": [
    "#+\n",
    "#ensuring we have latest version of transformers\n",
    "!pip install git+https://github.com/huggingface/transformers.git"
   ]
  },
  {
   "cell_type": "code",
   "execution_count": 6,
   "metadata": {
    "colab": {
     "base_uri": "https://localhost:8080/"
    },
    "executionInfo": {
     "elapsed": 18233,
     "status": "ok",
     "timestamp": 1614360732523,
     "user": {
      "displayName": "Esther Spiteri",
      "photoUrl": "",
      "userId": "09875045081686133788"
     },
     "user_tz": -60
    },
    "id": "nx2F3p5i28Lc",
    "outputId": "46293c02-9dc8-4c85-ac10-e13093abd76c"
   },
   "outputs": [
    {
     "name": "stdout",
     "output_type": "stream",
     "text": [
      "[nltk_data] Downloading package stopwords to /root/nltk_data...\n",
      "[nltk_data]   Package stopwords is already up-to-date!\n",
      "[nltk_data] Downloading package wordnet to /root/nltk_data...\n",
      "[nltk_data]   Package wordnet is already up-to-date!\n"
     ]
    }
   ],
   "source": [
    "#+\n",
    "from transformers import DistilBertTokenizer\n",
    "from transformers import TFDistilBertForSequenceClassification\n",
    "from sklearn import metrics\n",
    "from matplotlib import pyplot as plt\n",
    "import tensorflow as tf\n",
    "import pandas as pd\n",
    "import json\n",
    "import gc\n",
    "import re\n",
    "import numpy as np\n",
    "import seaborn as sns\n",
    "\n",
    "import nltk\n",
    "nltk.download('stopwords')\n",
    "nltk.download('wordnet')\n",
    "\n",
    "import setUpFunctions\n",
    "import evaluation"
   ]
  },
  {
   "cell_type": "code",
   "execution_count": 7,
   "metadata": {
    "executionInfo": {
     "elapsed": 18225,
     "status": "ok",
     "timestamp": 1614360732523,
     "user": {
      "displayName": "Esther Spiteri",
      "photoUrl": "",
      "userId": "09875045081686133788"
     },
     "user_tz": -60
    },
    "id": "bz8fNHTRsP5i"
   },
   "outputs": [],
   "source": [
    "#+ unselect wanted language option\n",
    "\n",
    "# language = 'es'\n",
    "language = 'en'\n",
    "\n",
    "cleanTweetsFlag = False #Set to True to use clean tweets and False to use non-cleaned tweets"
   ]
  },
  {
   "cell_type": "markdown",
   "metadata": {
    "id": "AqjwrufFBpq9"
   },
   "source": [
    "# Loading in the Data"
   ]
  },
  {
   "cell_type": "code",
   "execution_count": 8,
   "metadata": {
    "executionInfo": {
     "elapsed": 97981,
     "status": "ok",
     "timestamp": 1614360812282,
     "user": {
      "displayName": "Esther Spiteri",
      "photoUrl": "",
      "userId": "09875045081686133788"
     },
     "user_tz": -60
    },
    "id": "fxH6EGef28Lf"
   },
   "outputs": [],
   "source": [
    "train_tweets = setUpFunctions.getTrainTweets(language)\n",
    "trial_tweets = setUpFunctions.getTrialTweets(language)"
   ]
  },
  {
   "cell_type": "code",
   "execution_count": 9,
   "metadata": {
    "executionInfo": {
     "elapsed": 105897,
     "status": "ok",
     "timestamp": 1614360820204,
     "user": {
      "displayName": "Esther Spiteri",
      "photoUrl": "",
      "userId": "09875045081686133788"
     },
     "user_tz": -60
    },
    "id": "hTX-xiNazKQd"
   },
   "outputs": [],
   "source": [
    "#+ preparing test data\n",
    "test_tweets = setUpFunctions.getTestTweets(language)\n",
    "\n",
    "#converting tweets to lists\n",
    "if cleanTweetsFlag == True:\n",
    "    test_texts = test_tweets['tweet_clean'].to_list()\n",
    "else:\n",
    "    test_texts = [text.lower() for text in test_tweets['tweet'].to_list()]\n",
    "\n",
    "#converting emojis from strings to int\n",
    "test_labels = [int(emoji) for emoji in test_tweets['emoji']]"
   ]
  },
  {
   "cell_type": "code",
   "execution_count": 10,
   "metadata": {
    "executionInfo": {
     "elapsed": 106272,
     "status": "ok",
     "timestamp": 1614360820581,
     "user": {
      "displayName": "Esther Spiteri",
      "photoUrl": "",
      "userId": "09875045081686133788"
     },
     "user_tz": -60
    },
    "id": "MiR9TmSvCseu"
   },
   "outputs": [],
   "source": [
    "#preparing train and trial data\n",
    "\n",
    "#converting tweets to lists\n",
    "if cleanTweetsFlag == True:\n",
    "    train_texts = train_tweets['tweet_clean'].to_list()\n",
    "    trial_texts = trial_tweets['tweet_clean'].to_list()\n",
    "else:\n",
    "    train_texts = [text.lower() for text in train_tweets['tweet'].to_list()]\n",
    "    trial_texts = [text.lower() for text in trial_tweets['tweet'].to_list()]\n",
    "\n",
    "#converting emojis from strings to int\n",
    "train_labels = [int(emoji) for emoji in train_tweets['emoji']]\n",
    "trial_labels = [int(emoji) for emoji in trial_tweets['emoji']]"
   ]
  },
  {
   "cell_type": "code",
   "execution_count": 11,
   "metadata": {
    "colab": {
     "base_uri": "https://localhost:8080/"
    },
    "executionInfo": {
     "elapsed": 106267,
     "status": "ok",
     "timestamp": 1614360820582,
     "user": {
      "displayName": "Esther Spiteri",
      "photoUrl": "",
      "userId": "09875045081686133788"
     },
     "user_tz": -60
    },
    "id": "G3vm9Pf9evrF",
    "outputId": "6d1ee3c0-5a4a-4b88-aca9-7cb7f3ebce7f"
   },
   "outputs": [
    {
     "name": "stdout",
     "output_type": "stream",
     "text": [
      "#whatremorse #notapologetic #sandiego #view # @ north park, san diego \n"
     ]
    }
   ],
   "source": [
    "print(train_texts[20])"
   ]
  },
  {
   "cell_type": "markdown",
   "metadata": {
    "id": "pIGCYvXwGz5M"
   },
   "source": [
    "# Tokenizing the tweets"
   ]
  },
  {
   "cell_type": "code",
   "execution_count": 12,
   "metadata": {
    "colab": {
     "base_uri": "https://localhost:8080/",
     "height": 66,
     "referenced_widgets": [
      "acf58a51750940d6b4870080df1acd1b",
      "172bb80c63764ba1974e90fdd4eacce5",
      "4f050e78630846158accaab62a3e4c10",
      "d48dfc1a05af4ec7bb1238534513ffc7",
      "314763315f17407dbedeb00443150666",
      "c90c89149b6e488b9195514110ab127a",
      "7d75de0c81c34a8189b23830a2bdacfe",
      "6cf7e3b3a0bb41ee922d85bf85e87388"
     ]
    },
    "executionInfo": {
     "elapsed": 259311,
     "status": "ok",
     "timestamp": 1614360973635,
     "user": {
      "displayName": "Esther Spiteri",
      "photoUrl": "",
      "userId": "09875045081686133788"
     },
     "user_tz": -60
    },
    "id": "csFKmZM3Ea--",
    "outputId": "7bc50b83-05a6-4d72-924f-758963ee779e"
   },
   "outputs": [
    {
     "data": {
      "application/vnd.jupyter.widget-view+json": {
       "model_id": "acf58a51750940d6b4870080df1acd1b",
       "version_major": 2,
       "version_minor": 0
      },
      "text/plain": [
       "HBox(children=(FloatProgress(value=0.0, description='Downloading', max=231508.0, style=ProgressStyle(descripti…"
      ]
     },
     "metadata": {
      "tags": []
     },
     "output_type": "display_data"
    },
    {
     "name": "stdout",
     "output_type": "stream",
     "text": [
      "\n"
     ]
    }
   ],
   "source": [
    "#encoding train and trial tweets\n",
    "tokenizer = DistilBertTokenizer.from_pretrained('distilbert-base-uncased')\n",
    "train_encodings = tokenizer(train_texts, truncation=True, padding=True)\n",
    "trial_encodings = tokenizer(trial_texts, truncation=True, padding=True)"
   ]
  },
  {
   "cell_type": "markdown",
   "metadata": {
    "id": "yUsfwpKOG7rI"
   },
   "source": [
    "# Creating Dataset object for Tensorflow"
   ]
  },
  {
   "cell_type": "code",
   "execution_count": 13,
   "metadata": {
    "executionInfo": {
     "elapsed": 412088,
     "status": "ok",
     "timestamp": 1614361126414,
     "user": {
      "displayName": "Esther Spiteri",
      "photoUrl": "",
      "userId": "09875045081686133788"
     },
     "user_tz": -60
    },
    "id": "mq_9SOMgFOcw"
   },
   "outputs": [],
   "source": [
    "train_dataset = tf.data.Dataset.from_tensor_slices((dict(train_encodings), train_labels))\n",
    "trial_dataset = tf.data.Dataset.from_tensor_slices((dict(trial_encodings), trial_labels))"
   ]
  },
  {
   "cell_type": "markdown",
   "metadata": {
    "id": "GWP0P6ZIHE19"
   },
   "source": [
    "# Fine-tuning using native Tensorflow"
   ]
  },
  {
   "cell_type": "code",
   "execution_count": 14,
   "metadata": {
    "colab": {
     "base_uri": "https://localhost:8080/",
     "height": 218,
     "referenced_widgets": [
      "4da32ab602a144d9b286dda6d691da61",
      "58615b59efd94c549da6d783fd88de34",
      "2929a714946d4f5687909ab595417da3",
      "b0d6162b879c464db8010c5a5ab8e00f",
      "879543b1b8504d56ab32d5f3483556d9",
      "67ce733993fe46a9aa40c2880debc37c",
      "5bf17fe1b0e445faae17d3cc4ef363bb",
      "83da5ea57a91434c9d1edbd1085cc311",
      "e529c8669a7e4cb090e327476719f994",
      "7d14b71608874cce8e1de39d45bd4961",
      "de30e62b839d47a2b75144fca9dafc6b",
      "42c655ad761848ecbc96512f96d9869d",
      "3e3f3498091644b0afa27d4e393d7d9e",
      "0e242d0111444caf9148f93c72d8e6a4",
      "eca4276d7e434e59bdac246eb7a742a0",
      "4661d20e3547449ab37eecc648eb7956"
     ]
    },
    "executionInfo": {
     "elapsed": 419552,
     "status": "ok",
     "timestamp": 1614361133887,
     "user": {
      "displayName": "Esther Spiteri",
      "photoUrl": "",
      "userId": "09875045081686133788"
     },
     "user_tz": -60
    },
    "id": "mW4rAM-bEsQR",
    "outputId": "00439dac-b8cc-4e1a-ee34-03267fddd4f6"
   },
   "outputs": [
    {
     "data": {
      "application/vnd.jupyter.widget-view+json": {
       "model_id": "4da32ab602a144d9b286dda6d691da61",
       "version_major": 2,
       "version_minor": 0
      },
      "text/plain": [
       "HBox(children=(FloatProgress(value=0.0, description='Downloading', max=442.0, style=ProgressStyle(description_…"
      ]
     },
     "metadata": {
      "tags": []
     },
     "output_type": "display_data"
    },
    {
     "name": "stdout",
     "output_type": "stream",
     "text": [
      "\n"
     ]
    },
    {
     "data": {
      "application/vnd.jupyter.widget-view+json": {
       "model_id": "e529c8669a7e4cb090e327476719f994",
       "version_major": 2,
       "version_minor": 0
      },
      "text/plain": [
       "HBox(children=(FloatProgress(value=0.0, description='Downloading', max=363423424.0, style=ProgressStyle(descri…"
      ]
     },
     "metadata": {
      "tags": []
     },
     "output_type": "display_data"
    },
    {
     "name": "stdout",
     "output_type": "stream",
     "text": [
      "\n"
     ]
    },
    {
     "name": "stderr",
     "output_type": "stream",
     "text": [
      "Some layers from the model checkpoint at distilbert-base-uncased were not used when initializing TFDistilBertForSequenceClassification: ['vocab_transform', 'vocab_layer_norm', 'vocab_projector', 'activation_13']\n",
      "- This IS expected if you are initializing TFDistilBertForSequenceClassification from the checkpoint of a model trained on another task or with another architecture (e.g. initializing a BertForSequenceClassification model from a BertForPreTraining model).\n",
      "- This IS NOT expected if you are initializing TFDistilBertForSequenceClassification from the checkpoint of a model that you expect to be exactly identical (initializing a BertForSequenceClassification model from a BertForSequenceClassification model).\n",
      "Some layers of TFDistilBertForSequenceClassification were not initialized from the model checkpoint at distilbert-base-uncased and are newly initialized: ['dropout_19', 'classifier', 'pre_classifier']\n",
      "You should probably TRAIN this model on a down-stream task to be able to use it for predictions and inference.\n"
     ]
    }
   ],
   "source": [
    "#building the model and compiling it\n",
    "if language == 'en': \n",
    "    model = TFDistilBertForSequenceClassification.from_pretrained('distilbert-base-uncased', num_labels=20)   \n",
    "elif language == 'es':\n",
    "    model = TFDistilBertForSequenceClassification.from_pretrained('distilbert-base-uncased', num_labels=19)   \n",
    "\n",
    "optimizer = tf.keras.optimizers.Adam(learning_rate=3e-5) \n",
    "model.compile(optimizer=optimizer, loss=model.compute_loss, metrics=['accuracy'])"
   ]
  },
  {
   "cell_type": "code",
   "execution_count": 15,
   "metadata": {
    "colab": {
     "base_uri": "https://localhost:8080/"
    },
    "executionInfo": {
     "elapsed": 12541551,
     "status": "ok",
     "timestamp": 1614373255895,
     "user": {
      "displayName": "Esther Spiteri",
      "photoUrl": "",
      "userId": "09875045081686133788"
     },
     "user_tz": -60
    },
    "id": "hVXyBZapGAp4",
    "outputId": "490477bc-f7c9-40ca-c7e2-3a34025a0ebc"
   },
   "outputs": [
    {
     "name": "stdout",
     "output_type": "stream",
     "text": [
      "Epoch 1/3\n",
      "WARNING:tensorflow:The parameters `output_attentions`, `output_hidden_states` and `use_cache` cannot be updated when calling a model.They have to be set to True/False in the config object (i.e.: `config=XConfig.from_pretrained('name', output_attentions=True)`).\n",
      "WARNING:tensorflow:AutoGraph could not transform <bound method Socket.send of <zmq.sugar.socket.Socket object at 0x7f55b9ccbb40>> and will run it as-is.\n",
      "Please report this to the TensorFlow team. When filing the bug, set the verbosity to 10 (on Linux, `export AUTOGRAPH_VERBOSITY=10`) and attach the full output.\n",
      "Cause: module, class, method, function, traceback, frame, or code object was expected, got cython_function_or_method\n",
      "To silence this warning, decorate the function with @tf.autograph.experimental.do_not_convert\n",
      "WARNING: AutoGraph could not transform <bound method Socket.send of <zmq.sugar.socket.Socket object at 0x7f55b9ccbb40>> and will run it as-is.\n",
      "Please report this to the TensorFlow team. When filing the bug, set the verbosity to 10 (on Linux, `export AUTOGRAPH_VERBOSITY=10`) and attach the full output.\n",
      "Cause: module, class, method, function, traceback, frame, or code object was expected, got cython_function_or_method\n",
      "To silence this warning, decorate the function with @tf.autograph.experimental.do_not_convert\n",
      "WARNING:tensorflow:AutoGraph could not transform <function wrap at 0x7f55d50730e0> and will run it as-is.\n",
      "Cause: while/else statement not yet supported\n",
      "To silence this warning, decorate the function with @tf.autograph.experimental.do_not_convert\n",
      "WARNING: AutoGraph could not transform <function wrap at 0x7f55d50730e0> and will run it as-is.\n",
      "Cause: while/else statement not yet supported\n",
      "To silence this warning, decorate the function with @tf.autograph.experimental.do_not_convert\n",
      "WARNING:tensorflow:The parameter `return_dict` cannot be set in graph mode and will always be set to `True`.\n",
      "WARNING:tensorflow:The parameters `output_attentions`, `output_hidden_states` and `use_cache` cannot be updated when calling a model.They have to be set to True/False in the config object (i.e.: `config=XConfig.from_pretrained('name', output_attentions=True)`).\n",
      "WARNING:tensorflow:The parameter `return_dict` cannot be set in graph mode and will always be set to `True`.\n",
      "25692/25692 [==============================] - ETA: 0s - loss: 2.1749 - accuracy: 0.3519WARNING:tensorflow:The parameters `output_attentions`, `output_hidden_states` and `use_cache` cannot be updated when calling a model.They have to be set to True/False in the config object (i.e.: `config=XConfig.from_pretrained('name', output_attentions=True)`).\n",
      "WARNING:tensorflow:The parameter `return_dict` cannot be set in graph mode and will always be set to `True`.\n",
      "25692/25692 [==============================] - 4079s 157ms/step - loss: 2.1749 - accuracy: 0.3519 - val_loss: 1.9473 - val_accuracy: 0.4046\n",
      "Epoch 2/3\n",
      "25692/25692 [==============================] - 4032s 157ms/step - loss: 1.9067 - accuracy: 0.4180 - val_loss: 1.8762 - val_accuracy: 0.4266\n",
      "Epoch 3/3\n",
      "25692/25692 [==============================] - 4009s 156ms/step - loss: 1.7260 - accuracy: 0.4639 - val_loss: 1.8433 - val_accuracy: 0.4420\n"
     ]
    },
    {
     "data": {
      "text/plain": [
       "<tensorflow.python.keras.callbacks.History at 0x7f5559d9ad50>"
      ]
     },
     "execution_count": 15,
     "metadata": {
      "tags": []
     },
     "output_type": "execute_result"
    }
   ],
   "source": [
    "#training \n",
    "#unable to run on GPU for 4 epochs due to google Colab limit and on CPU setting or Jupyter Notebook it was too slow.\n",
    "model.fit(train_dataset.shuffle(1000).batch(16), epochs=3, batch_size=16, validation_data=trial_dataset.shuffle(1000).batch(16))"
   ]
  },
  {
   "cell_type": "markdown",
   "metadata": {
    "id": "jyw1Rxc5IYw1"
   },
   "source": [
    "# Saving and Loading the model"
   ]
  },
  {
   "cell_type": "code",
   "execution_count": 16,
   "metadata": {
    "executionInfo": {
     "elapsed": 12541544,
     "status": "ok",
     "timestamp": 1614373255897,
     "user": {
      "displayName": "Esther Spiteri",
      "photoUrl": "",
      "userId": "09875045081686133788"
     },
     "user_tz": -60
    },
    "id": "1z6jkJyrKOHh"
   },
   "outputs": [],
   "source": [
    "#+ \n",
    "if language == 'en':\n",
    "    save_directory = \"models/EnglishDistilbertModel\" # to load english model\n",
    "elif language == 'es':\n",
    "    save_directory = \"models/SpanishDistilbertModel\" # to load spanish model"
   ]
  },
  {
   "cell_type": "code",
   "execution_count": 17,
   "metadata": {
    "colab": {
     "base_uri": "https://localhost:8080/"
    },
    "executionInfo": {
     "elapsed": 12542345,
     "status": "ok",
     "timestamp": 1614373256704,
     "user": {
      "displayName": "Esther Spiteri",
      "photoUrl": "",
      "userId": "09875045081686133788"
     },
     "user_tz": -60
    },
    "id": "WOK2Qzt_IbTQ",
    "outputId": "e3cb646d-0387-4c30-c1c4-979bc2c162ac"
   },
   "outputs": [
    {
     "data": {
      "text/plain": [
       "('/content/drive/MyDrive/NLP_resources/savedModels/EnglishDistilbertModel/tokenizer_config.json',\n",
       " '/content/drive/MyDrive/NLP_resources/savedModels/EnglishDistilbertModel/special_tokens_map.json',\n",
       " '/content/drive/MyDrive/NLP_resources/savedModels/EnglishDistilbertModel/vocab.txt',\n",
       " '/content/drive/MyDrive/NLP_resources/savedModels/EnglishDistilbertModel/added_tokens.json')"
      ]
     },
     "execution_count": 17,
     "metadata": {
      "tags": []
     },
     "output_type": "execute_result"
    }
   ],
   "source": [
    "#saving the model and the tokenizer\n",
    "model.save_pretrained(save_directory)\n",
    "tokenizer.save_pretrained(save_directory)"
   ]
  },
  {
   "cell_type": "code",
   "execution_count": 18,
   "metadata": {
    "colab": {
     "base_uri": "https://localhost:8080/"
    },
    "executionInfo": {
     "elapsed": 12543228,
     "status": "ok",
     "timestamp": 1614373257595,
     "user": {
      "displayName": "Esther Spiteri",
      "photoUrl": "",
      "userId": "09875045081686133788"
     },
     "user_tz": -60
    },
    "id": "kkXCDjrcIuQ-",
    "outputId": "7f514184-047e-45aa-8e08-241d3c04572f"
   },
   "outputs": [
    {
     "name": "stderr",
     "output_type": "stream",
     "text": [
      "Some layers from the model checkpoint at /content/drive/MyDrive/NLP_resources/savedModels/EnglishDistilbertModel were not used when initializing TFDistilBertForSequenceClassification: ['dropout_19']\n",
      "- This IS expected if you are initializing TFDistilBertForSequenceClassification from the checkpoint of a model trained on another task or with another architecture (e.g. initializing a BertForSequenceClassification model from a BertForPreTraining model).\n",
      "- This IS NOT expected if you are initializing TFDistilBertForSequenceClassification from the checkpoint of a model that you expect to be exactly identical (initializing a BertForSequenceClassification model from a BertForSequenceClassification model).\n",
      "Some layers of TFDistilBertForSequenceClassification were not initialized from the model checkpoint at /content/drive/MyDrive/NLP_resources/savedModels/EnglishDistilbertModel and are newly initialized: ['dropout_39']\n",
      "You should probably TRAIN this model on a down-stream task to be able to use it for predictions and inference.\n"
     ]
    }
   ],
   "source": [
    "#+\n",
    "#loading the model and the tokenizer\n",
    "loaded_tokenizer = DistilBertTokenizer.from_pretrained(save_directory)\n",
    "loaded_model = TFDistilBertForSequenceClassification.from_pretrained(save_directory)"
   ]
  },
  {
   "cell_type": "markdown",
   "metadata": {
    "id": "D37-DiKrKfNA"
   },
   "source": [
    "# Making Prediction with unseen tweet"
   ]
  },
  {
   "cell_type": "code",
   "execution_count": 19,
   "metadata": {
    "colab": {
     "base_uri": "https://localhost:8080/"
    },
    "executionInfo": {
     "elapsed": 12543222,
     "status": "ok",
     "timestamp": 1614373257596,
     "user": {
      "displayName": "Esther Spiteri",
      "photoUrl": "",
      "userId": "09875045081686133788"
     },
     "user_tz": -60
    },
    "id": "sxc-Hj_TKjPb",
    "outputId": "553d8127-9cc9-4fb3-81ae-93bbd9217e83"
   },
   "outputs": [
    {
     "name": "stdout",
     "output_type": "stream",
     "text": [
      "Tweet:  before dumping the tank and then after , good times suffering. #lfa27 at firelake arena…\n",
      "True label:  2\n"
     ]
    }
   ],
   "source": [
    "#+\n",
    "test_text = test_texts[500]\n",
    "print(\"Tweet: \", test_text)\n",
    "print(\"True label: \", test_labels[500])"
   ]
  },
  {
   "cell_type": "code",
   "execution_count": 20,
   "metadata": {
    "colab": {
     "base_uri": "https://localhost:8080/"
    },
    "executionInfo": {
     "elapsed": 12543214,
     "status": "ok",
     "timestamp": 1614373257596,
     "user": {
      "displayName": "Esther Spiteri",
      "photoUrl": "",
      "userId": "09875045081686133788"
     },
     "user_tz": -60
    },
    "id": "Q8363WoRKx99",
    "outputId": "4bc0154a-0ef4-4410-b1fb-25992b9c2050"
   },
   "outputs": [
    {
     "name": "stdout",
     "output_type": "stream",
     "text": [
      "Predicted label:  6\n"
     ]
    }
   ],
   "source": [
    "#+\n",
    "predict_input = loaded_tokenizer.encode(test_text, truncation=True, padding=True, return_tensors=\"tf\")\n",
    "\n",
    "output = loaded_model(predict_input)[0]\n",
    "\n",
    "prediction_value = tf.argmax(output, axis=1).numpy()[0]\n",
    "print(\"Predicted label: \", prediction_value)"
   ]
  },
  {
   "cell_type": "markdown",
   "metadata": {
    "id": "JgieG26SCkv1"
   },
   "source": [
    "# Making Predictions of all test tweets"
   ]
  },
  {
   "cell_type": "code",
   "execution_count": 21,
   "metadata": {
    "executionInfo": {
     "elapsed": 990671,
     "status": "ok",
     "timestamp": 1614376078202,
     "user": {
      "displayName": "Esther Spiteri",
      "photoUrl": "",
      "userId": "09875045081686133788"
     },
     "user_tz": -60
    },
    "id": "PhnLu6gVCj-x"
   },
   "outputs": [],
   "source": [
    "#+\n",
    "prediction_values = []\n",
    "\n",
    "for text in test_texts:\n",
    "    predict_input = loaded_tokenizer.encode(text, truncation=True, padding=True, return_tensors=\"tf\")\n",
    "\n",
    "    output = loaded_model(predict_input)[0]\n",
    "\n",
    "    prediction_value = tf.argmax(output, axis=1).numpy()[0]\n",
    "    prediction_values.append(prediction_value)"
   ]
  },
  {
   "cell_type": "code",
   "execution_count": 22,
   "metadata": {
    "executionInfo": {
     "elapsed": 16,
     "status": "ok",
     "timestamp": 1614376078204,
     "user": {
      "displayName": "Esther Spiteri",
      "photoUrl": "",
      "userId": "09875045081686133788"
     },
     "user_tz": -60
    },
    "id": "txuUsibq4jci"
   },
   "outputs": [],
   "source": [
    "#+\n",
    "def confusion_matrix(gold_labels, predicted):\n",
    "    classes = np.unique(gold_labels)\n",
    "\n",
    "    ## Plot confusion matrix\n",
    "    cm = metrics.confusion_matrix(gold_labels, predicted)\n",
    "    fig, ax = plt.subplots(figsize=(10,10))\n",
    "    sns.heatmap(cm, annot=True, fmt='d', ax=ax, cmap=plt.cm.Blues, cbar=False)\n",
    "    ax.set(xlabel=\"Pred\", ylabel=\"True\", xticklabels=classes, yticklabels=classes, title=\"Confusion matrix\")\n",
    "    plt.yticks(rotation=0)"
   ]
  },
  {
   "cell_type": "code",
   "execution_count": 23,
   "metadata": {
    "colab": {
     "base_uri": "https://localhost:8080/",
     "height": 621
    },
    "executionInfo": {
     "elapsed": 2302,
     "status": "ok",
     "timestamp": 1614376080500,
     "user": {
      "displayName": "Esther Spiteri",
      "photoUrl": "",
      "userId": "09875045081686133788"
     },
     "user_tz": -60
    },
    "id": "CgPxmW474p8u",
    "outputId": "f3e13cf8-5fa7-43f0-ae2d-5819ecb31564"
   },
   "outputs": [
    {
     "data": {
      "image/png": "[encoded data removed]",
      "text/plain": [
       "<Figure size 720x720 with 1 Axes>"
      ]
     },
     "metadata": {
      "needs_background": "light",
      "tags": []
     },
     "output_type": "display_data"
    }
   ],
   "source": [
    "#+\n",
    "confusion_matrix(test_labels, prediction_values)"
   ]
  },
  {
   "cell_type": "code",
   "execution_count": 24,
   "metadata": {
    "colab": {
     "base_uri": "https://localhost:8080/"
    },
    "executionInfo": {
     "elapsed": 43,
     "status": "ok",
     "timestamp": 1614376080501,
     "user": {
      "displayName": "Esther Spiteri",
      "photoUrl": "",
      "userId": "09875045081686133788"
     },
     "user_tz": -60
    },
    "id": "HmhHlUJBDqYg",
    "outputId": "01483065-5df5-4e1b-876f-12e7749de941"
   },
   "outputs": [
    {
     "name": "stdout",
     "output_type": "stream",
     "text": [
      "Macro F-Score (official): 30.391\n",
      "-----\n",
      "Micro F-Score: 39.976\n",
      "Precision: 39.976\n",
      "Recall: 39.976\n"
     ]
    }
   ],
   "source": [
    "#+ applying official evaluation script\n",
    "evaluation.main(test_labels, prediction_values)"
   ]
  }
 ],
 "metadata": {
  "accelerator": "GPU",
  "colab": {
   "collapsed_sections": [],
   "name": "Distilbert.ipynb",
   "provenance": [],
   "toc_visible": true
  },
  "kernelspec": {
   "display_name": "Python 3",
   "language": "python",
   "name": "python3"
  },
  "language_info": {
   "codemirror_mode": {
    "name": "ipython",
    "version": 3
   },
   "file_extension": ".py",
   "mimetype": "text/x-python",
   "name": "python",
   "nbconvert_exporter": "python",
   "pygments_lexer": "ipython3",
   "version": "3.8.5"
  },
  "widgets": {
   "application/vnd.jupyter.widget-state+json": {
    "0e242d0111444caf9148f93c72d8e6a4": {
     "model_module": "@jupyter-widgets/base",
     "model_name": "LayoutModel",
     "state": {
      "_model_module": "@jupyter-widgets/base",
      "_model_module_version": "1.2.0",
      "_model_name": "LayoutModel",
      "_view_count": null,
      "_view_module": "@jupyter-widgets/base",
      "_view_module_version": "1.2.0",
      "_view_name": "LayoutView",
      "align_content": null,
      "align_items": null,
      "align_self": null,
      "border": null,
      "bottom": null,
      "display": null,
      "flex": null,
      "flex_flow": null,
      "grid_area": null,
      "grid_auto_columns": null,
      "grid_auto_flow": null,
      "grid_auto_rows": null,
      "grid_column": null,
      "grid_gap": null,
      "grid_row": null,
      "grid_template_areas": null,
      "grid_template_columns": null,
      "grid_template_rows": null,
      "height": null,
      "justify_content": null,
      "justify_items": null,
      "left": null,
      "margin": null,
      "max_height": null,
      "max_width": null,
      "min_height": null,
      "min_width": null,
      "object_fit": null,
      "object_position": null,
      "order": null,
      "overflow": null,
      "overflow_x": null,
      "overflow_y": null,
      "padding": null,
      "right": null,
      "top": null,
      "visibility": null,
      "width": null
     }
    },
    "172bb80c63764ba1974e90fdd4eacce5": {
     "model_module": "@jupyter-widgets/base",
     "model_name": "LayoutModel",
     "state": {
      "_model_module": "@jupyter-widgets/base",
      "_model_module_version": "1.2.0",
      "_model_name": "LayoutModel",
      "_view_count": null,
      "_view_module": "@jupyter-widgets/base",
      "_view_module_version": "1.2.0",
      "_view_name": "LayoutView",
      "align_content": null,
      "align_items": null,
      "align_self": null,
      "border": null,
      "bottom": null,
      "display": null,
      "flex": null,
      "flex_flow": null,
      "grid_area": null,
      "grid_auto_columns": null,
      "grid_auto_flow": null,
      "grid_auto_rows": null,
      "grid_column": null,
      "grid_gap": null,
      "grid_row": null,
      "grid_template_areas": null,
      "grid_template_columns": null,
      "grid_template_rows": null,
      "height": null,
      "justify_content": null,
      "justify_items": null,
      "left": null,
      "margin": null,
      "max_height": null,
      "max_width": null,
      "min_height": null,
      "min_width": null,
      "object_fit": null,
      "object_position": null,
      "order": null,
      "overflow": null,
      "overflow_x": null,
      "overflow_y": null,
      "padding": null,
      "right": null,
      "top": null,
      "visibility": null,
      "width": null
     }
    },
    "2929a714946d4f5687909ab595417da3": {
     "model_module": "@jupyter-widgets/controls",
     "model_name": "FloatProgressModel",
     "state": {
      "_dom_classes": [],
      "_model_module": "@jupyter-widgets/controls",
      "_model_module_version": "1.5.0",
      "_model_name": "FloatProgressModel",
      "_view_count": null,
      "_view_module": "@jupyter-widgets/controls",
      "_view_module_version": "1.5.0",
      "_view_name": "ProgressView",
      "bar_style": "success",
      "description": "Downloading: 100%",
      "description_tooltip": null,
      "layout": "IPY_MODEL_67ce733993fe46a9aa40c2880debc37c",
      "max": 442,
      "min": 0,
      "orientation": "horizontal",
      "style": "IPY_MODEL_879543b1b8504d56ab32d5f3483556d9",
      "value": 442
     }
    },
    "314763315f17407dbedeb00443150666": {
     "model_module": "@jupyter-widgets/controls",
     "model_name": "ProgressStyleModel",
     "state": {
      "_model_module": "@jupyter-widgets/controls",
      "_model_module_version": "1.5.0",
      "_model_name": "ProgressStyleModel",
      "_view_count": null,
      "_view_module": "@jupyter-widgets/base",
      "_view_module_version": "1.2.0",
      "_view_name": "StyleView",
      "bar_color": null,
      "description_width": "initial"
     }
    },
    "3e3f3498091644b0afa27d4e393d7d9e": {
     "model_module": "@jupyter-widgets/controls",
     "model_name": "ProgressStyleModel",
     "state": {
      "_model_module": "@jupyter-widgets/controls",
      "_model_module_version": "1.5.0",
      "_model_name": "ProgressStyleModel",
      "_view_count": null,
      "_view_module": "@jupyter-widgets/base",
      "_view_module_version": "1.2.0",
      "_view_name": "StyleView",
      "bar_color": null,
      "description_width": "initial"
     }
    },
    "42c655ad761848ecbc96512f96d9869d": {
     "model_module": "@jupyter-widgets/controls",
     "model_name": "HTMLModel",
     "state": {
      "_dom_classes": [],
      "_model_module": "@jupyter-widgets/controls",
      "_model_module_version": "1.5.0",
      "_model_name": "HTMLModel",
      "_view_count": null,
      "_view_module": "@jupyter-widgets/controls",
      "_view_module_version": "1.5.0",
      "_view_name": "HTMLView",
      "description": "",
      "description_tooltip": null,
      "layout": "IPY_MODEL_4661d20e3547449ab37eecc648eb7956",
      "placeholder": "​",
      "style": "IPY_MODEL_eca4276d7e434e59bdac246eb7a742a0",
      "value": " 363M/363M [00:06&lt;00:00, 60.5MB/s]"
     }
    },
    "4661d20e3547449ab37eecc648eb7956": {
     "model_module": "@jupyter-widgets/base",
     "model_name": "LayoutModel",
     "state": {
      "_model_module": "@jupyter-widgets/base",
      "_model_module_version": "1.2.0",
      "_model_name": "LayoutModel",
      "_view_count": null,
      "_view_module": "@jupyter-widgets/base",
      "_view_module_version": "1.2.0",
      "_view_name": "LayoutView",
      "align_content": null,
      "align_items": null,
      "align_self": null,
      "border": null,
      "bottom": null,
      "display": null,
      "flex": null,
      "flex_flow": null,
      "grid_area": null,
      "grid_auto_columns": null,
      "grid_auto_flow": null,
      "grid_auto_rows": null,
      "grid_column": null,
      "grid_gap": null,
      "grid_row": null,
      "grid_template_areas": null,
      "grid_template_columns": null,
      "grid_template_rows": null,
      "height": null,
      "justify_content": null,
      "justify_items": null,
      "left": null,
      "margin": null,
      "max_height": null,
      "max_width": null,
      "min_height": null,
      "min_width": null,
      "object_fit": null,
      "object_position": null,
      "order": null,
      "overflow": null,
      "overflow_x": null,
      "overflow_y": null,
      "padding": null,
      "right": null,
      "top": null,
      "visibility": null,
      "width": null
     }
    },
    "4da32ab602a144d9b286dda6d691da61": {
     "model_module": "@jupyter-widgets/controls",
     "model_name": "HBoxModel",
     "state": {
      "_dom_classes": [],
      "_model_module": "@jupyter-widgets/controls",
      "_model_module_version": "1.5.0",
      "_model_name": "HBoxModel",
      "_view_count": null,
      "_view_module": "@jupyter-widgets/controls",
      "_view_module_version": "1.5.0",
      "_view_name": "HBoxView",
      "box_style": "",
      "children": [
       "IPY_MODEL_2929a714946d4f5687909ab595417da3",
       "IPY_MODEL_b0d6162b879c464db8010c5a5ab8e00f"
      ],
      "layout": "IPY_MODEL_58615b59efd94c549da6d783fd88de34"
     }
    },
    "4f050e78630846158accaab62a3e4c10": {
     "model_module": "@jupyter-widgets/controls",
     "model_name": "FloatProgressModel",
     "state": {
      "_dom_classes": [],
      "_model_module": "@jupyter-widgets/controls",
      "_model_module_version": "1.5.0",
      "_model_name": "FloatProgressModel",
      "_view_count": null,
      "_view_module": "@jupyter-widgets/controls",
      "_view_module_version": "1.5.0",
      "_view_name": "ProgressView",
      "bar_style": "success",
      "description": "Downloading: 100%",
      "description_tooltip": null,
      "layout": "IPY_MODEL_c90c89149b6e488b9195514110ab127a",
      "max": 231508,
      "min": 0,
      "orientation": "horizontal",
      "style": "IPY_MODEL_314763315f17407dbedeb00443150666",
      "value": 231508
     }
    },
    "58615b59efd94c549da6d783fd88de34": {
     "model_module": "@jupyter-widgets/base",
     "model_name": "LayoutModel",
     "state": {
      "_model_module": "@jupyter-widgets/base",
      "_model_module_version": "1.2.0",
      "_model_name": "LayoutModel",
      "_view_count": null,
      "_view_module": "@jupyter-widgets/base",
      "_view_module_version": "1.2.0",
      "_view_name": "LayoutView",
      "align_content": null,
      "align_items": null,
      "align_self": null,
      "border": null,
      "bottom": null,
      "display": null,
      "flex": null,
      "flex_flow": null,
      "grid_area": null,
      "grid_auto_columns": null,
      "grid_auto_flow": null,
      "grid_auto_rows": null,
      "grid_column": null,
      "grid_gap": null,
      "grid_row": null,
      "grid_template_areas": null,
      "grid_template_columns": null,
      "grid_template_rows": null,
      "height": null,
      "justify_content": null,
      "justify_items": null,
      "left": null,
      "margin": null,
      "max_height": null,
      "max_width": null,
      "min_height": null,
      "min_width": null,
      "object_fit": null,
      "object_position": null,
      "order": null,
      "overflow": null,
      "overflow_x": null,
      "overflow_y": null,
      "padding": null,
      "right": null,
      "top": null,
      "visibility": null,
      "width": null
     }
    },
    "5bf17fe1b0e445faae17d3cc4ef363bb": {
     "model_module": "@jupyter-widgets/controls",
     "model_name": "DescriptionStyleModel",
     "state": {
      "_model_module": "@jupyter-widgets/controls",
      "_model_module_version": "1.5.0",
      "_model_name": "DescriptionStyleModel",
      "_view_count": null,
      "_view_module": "@jupyter-widgets/base",
      "_view_module_version": "1.2.0",
      "_view_name": "StyleView",
      "description_width": ""
     }
    },
    "67ce733993fe46a9aa40c2880debc37c": {
     "model_module": "@jupyter-widgets/base",
     "model_name": "LayoutModel",
     "state": {
      "_model_module": "@jupyter-widgets/base",
      "_model_module_version": "1.2.0",
      "_model_name": "LayoutModel",
      "_view_count": null,
      "_view_module": "@jupyter-widgets/base",
      "_view_module_version": "1.2.0",
      "_view_name": "LayoutView",
      "align_content": null,
      "align_items": null,
      "align_self": null,
      "border": null,
      "bottom": null,
      "display": null,
      "flex": null,
      "flex_flow": null,
      "grid_area": null,
      "grid_auto_columns": null,
      "grid_auto_flow": null,
      "grid_auto_rows": null,
      "grid_column": null,
      "grid_gap": null,
      "grid_row": null,
      "grid_template_areas": null,
      "grid_template_columns": null,
      "grid_template_rows": null,
      "height": null,
      "justify_content": null,
      "justify_items": null,
      "left": null,
      "margin": null,
      "max_height": null,
      "max_width": null,
      "min_height": null,
      "min_width": null,
      "object_fit": null,
      "object_position": null,
      "order": null,
      "overflow": null,
      "overflow_x": null,
      "overflow_y": null,
      "padding": null,
      "right": null,
      "top": null,
      "visibility": null,
      "width": null
     }
    },
    "6cf7e3b3a0bb41ee922d85bf85e87388": {
     "model_module": "@jupyter-widgets/base",
     "model_name": "LayoutModel",
     "state": {
      "_model_module": "@jupyter-widgets/base",
      "_model_module_version": "1.2.0",
      "_model_name": "LayoutModel",
      "_view_count": null,
      "_view_module": "@jupyter-widgets/base",
      "_view_module_version": "1.2.0",
      "_view_name": "LayoutView",
      "align_content": null,
      "align_items": null,
      "align_self": null,
      "border": null,
      "bottom": null,
      "display": null,
      "flex": null,
      "flex_flow": null,
      "grid_area": null,
      "grid_auto_columns": null,
      "grid_auto_flow": null,
      "grid_auto_rows": null,
      "grid_column": null,
      "grid_gap": null,
      "grid_row": null,
      "grid_template_areas": null,
      "grid_template_columns": null,
      "grid_template_rows": null,
      "height": null,
      "justify_content": null,
      "justify_items": null,
      "left": null,
      "margin": null,
      "max_height": null,
      "max_width": null,
      "min_height": null,
      "min_width": null,
      "object_fit": null,
      "object_position": null,
      "order": null,
      "overflow": null,
      "overflow_x": null,
      "overflow_y": null,
      "padding": null,
      "right": null,
      "top": null,
      "visibility": null,
      "width": null
     }
    },
    "7d14b71608874cce8e1de39d45bd4961": {
     "model_module": "@jupyter-widgets/base",
     "model_name": "LayoutModel",
     "state": {
      "_model_module": "@jupyter-widgets/base",
      "_model_module_version": "1.2.0",
      "_model_name": "LayoutModel",
      "_view_count": null,
      "_view_module": "@jupyter-widgets/base",
      "_view_module_version": "1.2.0",
      "_view_name": "LayoutView",
      "align_content": null,
      "align_items": null,
      "align_self": null,
      "border": null,
      "bottom": null,
      "display": null,
      "flex": null,
      "flex_flow": null,
      "grid_area": null,
      "grid_auto_columns": null,
      "grid_auto_flow": null,
      "grid_auto_rows": null,
      "grid_column": null,
      "grid_gap": null,
      "grid_row": null,
      "grid_template_areas": null,
      "grid_template_columns": null,
      "grid_template_rows": null,
      "height": null,
      "justify_content": null,
      "justify_items": null,
      "left": null,
      "margin": null,
      "max_height": null,
      "max_width": null,
      "min_height": null,
      "min_width": null,
      "object_fit": null,
      "object_position": null,
      "order": null,
      "overflow": null,
      "overflow_x": null,
      "overflow_y": null,
      "padding": null,
      "right": null,
      "top": null,
      "visibility": null,
      "width": null
     }
    },
    "7d75de0c81c34a8189b23830a2bdacfe": {
     "model_module": "@jupyter-widgets/controls",
     "model_name": "DescriptionStyleModel",
     "state": {
      "_model_module": "@jupyter-widgets/controls",
      "_model_module_version": "1.5.0",
      "_model_name": "DescriptionStyleModel",
      "_view_count": null,
      "_view_module": "@jupyter-widgets/base",
      "_view_module_version": "1.2.0",
      "_view_name": "StyleView",
      "description_width": ""
     }
    },
    "83da5ea57a91434c9d1edbd1085cc311": {
     "model_module": "@jupyter-widgets/base",
     "model_name": "LayoutModel",
     "state": {
      "_model_module": "@jupyter-widgets/base",
      "_model_module_version": "1.2.0",
      "_model_name": "LayoutModel",
      "_view_count": null,
      "_view_module": "@jupyter-widgets/base",
      "_view_module_version": "1.2.0",
      "_view_name": "LayoutView",
      "align_content": null,
      "align_items": null,
      "align_self": null,
      "border": null,
      "bottom": null,
      "display": null,
      "flex": null,
      "flex_flow": null,
      "grid_area": null,
      "grid_auto_columns": null,
      "grid_auto_flow": null,
      "grid_auto_rows": null,
      "grid_column": null,
      "grid_gap": null,
      "grid_row": null,
      "grid_template_areas": null,
      "grid_template_columns": null,
      "grid_template_rows": null,
      "height": null,
      "justify_content": null,
      "justify_items": null,
      "left": null,
      "margin": null,
      "max_height": null,
      "max_width": null,
      "min_height": null,
      "min_width": null,
      "object_fit": null,
      "object_position": null,
      "order": null,
      "overflow": null,
      "overflow_x": null,
      "overflow_y": null,
      "padding": null,
      "right": null,
      "top": null,
      "visibility": null,
      "width": null
     }
    },
    "879543b1b8504d56ab32d5f3483556d9": {
     "model_module": "@jupyter-widgets/controls",
     "model_name": "ProgressStyleModel",
     "state": {
      "_model_module": "@jupyter-widgets/controls",
      "_model_module_version": "1.5.0",
      "_model_name": "ProgressStyleModel",
      "_view_count": null,
      "_view_module": "@jupyter-widgets/base",
      "_view_module_version": "1.2.0",
      "_view_name": "StyleView",
      "bar_color": null,
      "description_width": "initial"
     }
    },
    "acf58a51750940d6b4870080df1acd1b": {
     "model_module": "@jupyter-widgets/controls",
     "model_name": "HBoxModel",
     "state": {
      "_dom_classes": [],
      "_model_module": "@jupyter-widgets/controls",
      "_model_module_version": "1.5.0",
      "_model_name": "HBoxModel",
      "_view_count": null,
      "_view_module": "@jupyter-widgets/controls",
      "_view_module_version": "1.5.0",
      "_view_name": "HBoxView",
      "box_style": "",
      "children": [
       "IPY_MODEL_4f050e78630846158accaab62a3e4c10",
       "IPY_MODEL_d48dfc1a05af4ec7bb1238534513ffc7"
      ],
      "layout": "IPY_MODEL_172bb80c63764ba1974e90fdd4eacce5"
     }
    },
    "b0d6162b879c464db8010c5a5ab8e00f": {
     "model_module": "@jupyter-widgets/controls",
     "model_name": "HTMLModel",
     "state": {
      "_dom_classes": [],
      "_model_module": "@jupyter-widgets/controls",
      "_model_module_version": "1.5.0",
      "_model_name": "HTMLModel",
      "_view_count": null,
      "_view_module": "@jupyter-widgets/controls",
      "_view_module_version": "1.5.0",
      "_view_name": "HTMLView",
      "description": "",
      "description_tooltip": null,
      "layout": "IPY_MODEL_83da5ea57a91434c9d1edbd1085cc311",
      "placeholder": "​",
      "style": "IPY_MODEL_5bf17fe1b0e445faae17d3cc4ef363bb",
      "value": " 442/442 [00:00&lt;00:00, 3.13kB/s]"
     }
    },
    "c90c89149b6e488b9195514110ab127a": {
     "model_module": "@jupyter-widgets/base",
     "model_name": "LayoutModel",
     "state": {
      "_model_module": "@jupyter-widgets/base",
      "_model_module_version": "1.2.0",
      "_model_name": "LayoutModel",
      "_view_count": null,
      "_view_module": "@jupyter-widgets/base",
      "_view_module_version": "1.2.0",
      "_view_name": "LayoutView",
      "align_content": null,
      "align_items": null,
      "align_self": null,
      "border": null,
      "bottom": null,
      "display": null,
      "flex": null,
      "flex_flow": null,
      "grid_area": null,
      "grid_auto_columns": null,
      "grid_auto_flow": null,
      "grid_auto_rows": null,
      "grid_column": null,
      "grid_gap": null,
      "grid_row": null,
      "grid_template_areas": null,
      "grid_template_columns": null,
      "grid_template_rows": null,
      "height": null,
      "justify_content": null,
      "justify_items": null,
      "left": null,
      "margin": null,
      "max_height": null,
      "max_width": null,
      "min_height": null,
      "min_width": null,
      "object_fit": null,
      "object_position": null,
      "order": null,
      "overflow": null,
      "overflow_x": null,
      "overflow_y": null,
      "padding": null,
      "right": null,
      "top": null,
      "visibility": null,
      "width": null
     }
    },
    "d48dfc1a05af4ec7bb1238534513ffc7": {
     "model_module": "@jupyter-widgets/controls",
     "model_name": "HTMLModel",
     "state": {
      "_dom_classes": [],
      "_model_module": "@jupyter-widgets/controls",
      "_model_module_version": "1.5.0",
      "_model_name": "HTMLModel",
      "_view_count": null,
      "_view_module": "@jupyter-widgets/controls",
      "_view_module_version": "1.5.0",
      "_view_name": "HTMLView",
      "description": "",
      "description_tooltip": null,
      "layout": "IPY_MODEL_6cf7e3b3a0bb41ee922d85bf85e87388",
      "placeholder": "​",
      "style": "IPY_MODEL_7d75de0c81c34a8189b23830a2bdacfe",
      "value": " 232k/232k [00:00&lt;00:00, 3.12MB/s]"
     }
    },
    "de30e62b839d47a2b75144fca9dafc6b": {
     "model_module": "@jupyter-widgets/controls",
     "model_name": "FloatProgressModel",
     "state": {
      "_dom_classes": [],
      "_model_module": "@jupyter-widgets/controls",
      "_model_module_version": "1.5.0",
      "_model_name": "FloatProgressModel",
      "_view_count": null,
      "_view_module": "@jupyter-widgets/controls",
      "_view_module_version": "1.5.0",
      "_view_name": "ProgressView",
      "bar_style": "success",
      "description": "Downloading: 100%",
      "description_tooltip": null,
      "layout": "IPY_MODEL_0e242d0111444caf9148f93c72d8e6a4",
      "max": 363423424,
      "min": 0,
      "orientation": "horizontal",
      "style": "IPY_MODEL_3e3f3498091644b0afa27d4e393d7d9e",
      "value": 363423424
     }
    },
    "e529c8669a7e4cb090e327476719f994": {
     "model_module": "@jupyter-widgets/controls",
     "model_name": "HBoxModel",
     "state": {
      "_dom_classes": [],
      "_model_module": "@jupyter-widgets/controls",
      "_model_module_version": "1.5.0",
      "_model_name": "HBoxModel",
      "_view_count": null,
      "_view_module": "@jupyter-widgets/controls",
      "_view_module_version": "1.5.0",
      "_view_name": "HBoxView",
      "box_style": "",
      "children": [
       "IPY_MODEL_de30e62b839d47a2b75144fca9dafc6b",
       "IPY_MODEL_42c655ad761848ecbc96512f96d9869d"
      ],
      "layout": "IPY_MODEL_7d14b71608874cce8e1de39d45bd4961"
     }
    },
    "eca4276d7e434e59bdac246eb7a742a0": {
     "model_module": "@jupyter-widgets/controls",
     "model_name": "DescriptionStyleModel",
     "state": {
      "_model_module": "@jupyter-widgets/controls",
      "_model_module_version": "1.5.0",
      "_model_name": "DescriptionStyleModel",
      "_view_count": null,
      "_view_module": "@jupyter-widgets/base",
      "_view_module_version": "1.2.0",
      "_view_name": "StyleView",
      "description_width": ""
     }
    }
   }
  }
 },
 "nbformat": 4,
 "nbformat_minor": 1
}
